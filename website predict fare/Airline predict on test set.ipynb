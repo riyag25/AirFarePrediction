{
 "cells": [
  {
   "cell_type": "code",
   "execution_count": 2,
   "id": "8ab37cf5",
   "metadata": {},
   "outputs": [],
   "source": [
    "import pandas as pd\n",
    "import numpy as np\n",
    "import matplotlib.pyplot as plt\n",
    "import seaborn as sns\n",
    "import joblib"
   ]
  },
  {
   "cell_type": "code",
   "execution_count": 3,
   "id": "b93d998f",
   "metadata": {},
   "outputs": [
    {
     "data": {
      "text/plain": [
       "GradientBoostingRegressor(max_depth=6, n_estimators=300)"
      ]
     },
     "execution_count": 3,
     "metadata": {},
     "output_type": "execute_result"
    }
   ],
   "source": [
    "model = joblib.load('gbht.sav')\n",
    "model"
   ]
  },
  {
   "cell_type": "code",
   "execution_count": 6,
   "id": "df080998",
   "metadata": {},
   "outputs": [
    {
     "data": {
      "text/plain": [
       "20"
      ]
     },
     "execution_count": 6,
     "metadata": {},
     "output_type": "execute_result"
    }
   ],
   "source": [
    "model.n_features_in_"
   ]
  },
  {
   "cell_type": "code",
   "execution_count": null,
   "id": "c366471d",
   "metadata": {},
   "outputs": [],
   "source": [
    "Airline                Jet Airways\n",
    "Date_of_Journey         01/03/2019\n",
    "Source                    Banglore\n",
    "Destination              New Delhi\n",
    "Route              BLR → BOM → DEL\n",
    "Dep_Time                     08:00\n",
    "Arrival_Time          05:05 02 Mar\n",
    "Duration                    21h 5m\n",
    "Total_Stops                 1 stop\n",
    "Additional Info            No info\n",
    "Price                        22271"
   ]
  },
  {
   "cell_type": "code",
   "execution_count": 21,
   "id": "2af6fe31",
   "metadata": {},
   "outputs": [
    {
     "data": {
      "text/html": [
       "<div>\n",
       "<style scoped>\n",
       "    .dataframe tbody tr th:only-of-type {\n",
       "        vertical-align: middle;\n",
       "    }\n",
       "\n",
       "    .dataframe tbody tr th {\n",
       "        vertical-align: top;\n",
       "    }\n",
       "\n",
       "    .dataframe thead th {\n",
       "        text-align: right;\n",
       "    }\n",
       "</style>\n",
       "<table border=\"1\" class=\"dataframe\">\n",
       "  <thead>\n",
       "    <tr style=\"text-align: right;\">\n",
       "      <th></th>\n",
       "      <th>Airline</th>\n",
       "      <th>Date_of_Journey</th>\n",
       "      <th>Source</th>\n",
       "      <th>Destination</th>\n",
       "      <th>Dep_Time</th>\n",
       "      <th>Arrival_Time</th>\n",
       "      <th>Duration</th>\n",
       "      <th>Total_Stops</th>\n",
       "      <th>Airline range</th>\n",
       "    </tr>\n",
       "  </thead>\n",
       "  <tbody>\n",
       "    <tr>\n",
       "      <th>0</th>\n",
       "      <td>IndiGo</td>\n",
       "      <td>01/03/2019</td>\n",
       "      <td>Banglore</td>\n",
       "      <td>New Delhi</td>\n",
       "      <td>16:50</td>\n",
       "      <td>21:35</td>\n",
       "      <td>4h 45m</td>\n",
       "      <td>1 stop</td>\n",
       "      <td>init</td>\n",
       "    </tr>\n",
       "  </tbody>\n",
       "</table>\n",
       "</div>"
      ],
      "text/plain": [
       "  Airline Date_of_Journey    Source Destination Dep_Time Arrival_Time  \\\n",
       "0  IndiGo      01/03/2019  Banglore   New Delhi    16:50        21:35   \n",
       "\n",
       "  Duration Total_Stops Airline range  \n",
       "0   4h 45m      1 stop          init  "
      ]
     },
     "execution_count": 21,
     "metadata": {},
     "output_type": "execute_result"
    }
   ],
   "source": [
    "df = {}\n",
    "# Route not considered.\n",
    "df['Airline'] =                        ['IndiGo']\n",
    "df['Date_of_Journey']=                ['01/03/2019']\n",
    "df['Source'] =                         ['Banglore']\n",
    "df['Destination'] =                    ['New Delhi']\n",
    "#Route              CCU → IXR → BBI → BLR\n",
    "df['Dep_Time']  =                         ['16:50']\n",
    "df['Arrival_Time'] =                       [ '21:35']\n",
    "df['Duration'] =                         ['4h 45m']\n",
    "df['Total_Stops'] =                     ['1 stop']\n",
    "df['Airline range'] = 'init'\n",
    "#df['Additional Info'] =                 ['No info'] Additional info selected features as drop down and if clicked 1 else 0.\n",
    "#Price                                13303\n",
    "df = pd.DataFrame(df)\n",
    "df"
   ]
  },
  {
   "cell_type": "code",
   "execution_count": 22,
   "id": "7d1255c4",
   "metadata": {},
   "outputs": [],
   "source": [
    "AdditionalInfo = ['Additional Info_1 Long layover', 'Additional Info_1 Short layover',\n",
    "       'Additional Info_2 Long layover', 'Additional Info_Business class',\n",
    "       'Additional Info_Change airports',\n",
    "       'Additional Info_In-flight meal not included',\n",
    "       'Additional Info_No check-in baggage included']\n",
    "for i in AdditionalInfo:\n",
    "    df[i] = 0\n",
    "   "
   ]
  },
  {
   "cell_type": "code",
   "execution_count": 23,
   "id": "407e03bd",
   "metadata": {},
   "outputs": [],
   "source": [
    "#Range\n",
    "low = ['IndiGo','SpiceJet','GoAir','Air Asia','Trujet']\n",
    "medium = ['Air India','Jet Airways','Multiple carriers', 'Vistara','Vistara Premium economy',\n",
    "          'Multiple carriers Premium economy']\n",
    "high = ['Jet Airways Business']\n",
    "\n",
    "\n",
    "\n",
    "df.loc[df['Airline'].isin(low),'Airline range'] = 'low'\n",
    "df.loc[df['Airline'].isin(medium),'Airline range'] = 'medium'\n",
    "df.loc[df['Airline'].isin(high),'Airline range'] = 'high'"
   ]
  },
  {
   "cell_type": "code",
   "execution_count": 24,
   "id": "3ca64b5b",
   "metadata": {},
   "outputs": [
    {
     "data": {
      "text/plain": [
       "{'high': 0, 'low': 1, 'medium': 2}"
      ]
     },
     "execution_count": 24,
     "metadata": {},
     "output_type": "execute_result"
    }
   ],
   "source": [
    "Airlines = joblib.load('dictionary_airlines.sav')\n",
    "range = joblib.load('dictionary_AirlineRange.sav')\n",
    "range"
   ]
  },
  {
   "cell_type": "code",
   "execution_count": 25,
   "id": "c951a85e",
   "metadata": {},
   "outputs": [
    {
     "data": {
      "text/html": [
       "<div>\n",
       "<style scoped>\n",
       "    .dataframe tbody tr th:only-of-type {\n",
       "        vertical-align: middle;\n",
       "    }\n",
       "\n",
       "    .dataframe tbody tr th {\n",
       "        vertical-align: top;\n",
       "    }\n",
       "\n",
       "    .dataframe thead th {\n",
       "        text-align: right;\n",
       "    }\n",
       "</style>\n",
       "<table border=\"1\" class=\"dataframe\">\n",
       "  <thead>\n",
       "    <tr style=\"text-align: right;\">\n",
       "      <th></th>\n",
       "      <th>Airline</th>\n",
       "      <th>Date_of_Journey</th>\n",
       "      <th>Source</th>\n",
       "      <th>Destination</th>\n",
       "      <th>Dep_Time</th>\n",
       "      <th>Arrival_Time</th>\n",
       "      <th>Duration</th>\n",
       "      <th>Total_Stops</th>\n",
       "      <th>Airline range</th>\n",
       "      <th>Additional Info_1 Long layover</th>\n",
       "      <th>Additional Info_1 Short layover</th>\n",
       "      <th>Additional Info_2 Long layover</th>\n",
       "      <th>Additional Info_Business class</th>\n",
       "      <th>Additional Info_Change airports</th>\n",
       "      <th>Additional Info_In-flight meal not included</th>\n",
       "      <th>Additional Info_No check-in baggage included</th>\n",
       "    </tr>\n",
       "  </thead>\n",
       "  <tbody>\n",
       "    <tr>\n",
       "      <th>0</th>\n",
       "      <td>3</td>\n",
       "      <td>01/03/2019</td>\n",
       "      <td>Banglore</td>\n",
       "      <td>New Delhi</td>\n",
       "      <td>16:50</td>\n",
       "      <td>21:35</td>\n",
       "      <td>4h 45m</td>\n",
       "      <td>1 stop</td>\n",
       "      <td>1</td>\n",
       "      <td>0</td>\n",
       "      <td>0</td>\n",
       "      <td>0</td>\n",
       "      <td>0</td>\n",
       "      <td>0</td>\n",
       "      <td>0</td>\n",
       "      <td>0</td>\n",
       "    </tr>\n",
       "  </tbody>\n",
       "</table>\n",
       "</div>"
      ],
      "text/plain": [
       "   Airline Date_of_Journey    Source Destination Dep_Time Arrival_Time  \\\n",
       "0        3      01/03/2019  Banglore   New Delhi    16:50        21:35   \n",
       "\n",
       "  Duration Total_Stops  Airline range  Additional Info_1 Long layover  \\\n",
       "0   4h 45m      1 stop              1                               0   \n",
       "\n",
       "   Additional Info_1 Short layover  Additional Info_2 Long layover  \\\n",
       "0                                0                               0   \n",
       "\n",
       "   Additional Info_Business class  Additional Info_Change airports  \\\n",
       "0                               0                                0   \n",
       "\n",
       "   Additional Info_In-flight meal not included  \\\n",
       "0                                            0   \n",
       "\n",
       "   Additional Info_No check-in baggage included  \n",
       "0                                             0  "
      ]
     },
     "execution_count": 25,
     "metadata": {},
     "output_type": "execute_result"
    }
   ],
   "source": [
    "df['Airline'] = df['Airline'].map(Airlines)\n",
    "df['Airline range'] = df['Airline range'].map(range)\n",
    "df"
   ]
  },
  {
   "cell_type": "code",
   "execution_count": 26,
   "id": "c647b42b",
   "metadata": {},
   "outputs": [],
   "source": [
    "# function for month extraction \n",
    "import re # regular expression for string manipulation\n",
    "def getSeason(month):\n",
    "    if (month in [12, 1, 2]):\n",
    "        return \"winter\"\n",
    "    elif (month in [3, 4, 5]):\n",
    "        return \"summer\"\n",
    "    elif (month in [6, 7, 8]):\n",
    "        return \"monsoon\"\n",
    "    else:\n",
    "        return \"spring\"\n",
    "\n",
    "# function for period extraction \n",
    "def getPeriodOfDay(x):\n",
    "    x = int(x[:2])\n",
    "    if (x > 4) and (x <= 8):\n",
    "        return 'Early Morning'\n",
    "    elif (x > 8) and (x <= 12 ):\n",
    "        return 'Morning'\n",
    "    elif (x > 12) and (x <= 16):\n",
    "        return'Noon'\n",
    "    elif (x > 16) and (x <= 20) :\n",
    "        return 'Eve'\n",
    "    elif (x > 20) and (x <= 24):\n",
    "        return'Night'\n",
    "    elif (x <= 4):\n",
    "        return'Late Night'\n",
    "# function for duration counting     \n",
    "def getDuration(x):\n",
    "    replacements = [\n",
    "    ('h', ':'),\n",
    "    ('m', ''),\n",
    "    (' ', '')]\n",
    "    for old, new in replacements:\n",
    "        x = re.sub(old, new, x) # regular expression \n",
    "    splt = x.split(':')\n",
    "    hours_to_min = int(splt[0])*60\n",
    "    if len(splt) == 2 and splt[1].isdigit(): # to add the remaining minutes\n",
    "        fin = hours_to_min + int(splt[1])\n",
    "    else:\n",
    "        fin = hours_to_min\n",
    "    return fin\n",
    "# function for duration counting     \n",
    "def getDurationHours(x):\n",
    "    replacements = [\n",
    "    ('h', ':'),\n",
    "    ('m', ''),\n",
    "    (' ', '')]\n",
    "    for old, new in replacements:\n",
    "        x = re.sub(old, new, x)\n",
    "    splt = x.split(':')\n",
    "    hours_to_min = int(splt[0])*60\n",
    "    if len(splt) == 2 and splt[1].isdigit():\n",
    "        min = int(splt[1])\n",
    "    else:\n",
    "        min =0\n",
    "    return float(splt[0])+round(min/60,2)\n",
    "\n",
    "df['month'] = pd.DatetimeIndex(df['Date_of_Journey']).month # month\n",
    "df['day'] = pd.DatetimeIndex(df['Date_of_Journey']).day # day\n",
    "df['season'] = df['month'].apply(getSeason) # season\n",
    "df['Dep_Time_Period'] = df['Dep_Time'].apply(getPeriodOfDay) # period of day (departure time)\n",
    "df['Arrival_Time_Period'] =df['Arrival_Time'].apply(getPeriodOfDay) # period of day (arrival time)\n",
    "df['Duration_Minutes'] = df['Duration'].apply(getDuration).astype(int) # duration of a flight\n",
    "df['Duration_Hours'] =df['Duration'].apply(getDurationHours) # duration of a flight in hours\n",
    "df['weekday'] = pd.DatetimeIndex(df['Date_of_Journey']).weekday #The day of the week with Monday=0, Sunday=6.\n"
   ]
  },
  {
   "cell_type": "code",
   "execution_count": 27,
   "id": "4691a5dc",
   "metadata": {},
   "outputs": [],
   "source": [
    "#Encoding\n",
    "df[\"Total_Stops\"] = df[\"Total_Stops\"].map({'non-stop': 0, '1 stop': 1, '2 stops': 2, '3 stops': 3, '4 stops': 4})  # total stops in a period of flight \n",
    "df[\"season_enc\"] = df[\"season\"].map({'spring': 0, 'summer': 1, 'monsoon': 2, 'winter': 3}) # season of flight \n",
    "df[\"Arrival_Time_Period_enc\"] = df[\"Arrival_Time_Period\"].map({'Early Morning': 0, 'Morning': 1,\n",
    "                                                                           'Noon': 2, 'Eve': 3, 'Night': 4, 'Late Night': 5}) # name of day periods \n",
    "df[\"Dep_Time_Period_enc\"] = df[\"Dep_Time_Period\"].map({'Early Morning': 0, 'Morning': 1,\n",
    "                                                                           'Noon': 2, 'Eve': 3, 'Night': 4, 'Late Night': 5}) # name of day periods \n",
    "df['Source'] = df['Source'].map({'Delhi':1, 'Kolkata':2, 'Banglore':3, 'Mumbai':4, 'Chennai':5})\n",
    "df['Destination'] = df['Destination'].map({'Cochin':1, 'Banglore':2, 'Delhi':3, 'New Delhi':4, 'Hyderabad':5, 'Kolkata':6})"
   ]
  },
  {
   "cell_type": "code",
   "execution_count": 28,
   "id": "3a68a56c",
   "metadata": {},
   "outputs": [],
   "source": [
    "drop = ['Date_of_Journey','Dep_Time','Arrival_Time','Duration','Dep_Time_Period', 'Arrival_Time_Period','season']\n",
    "df =df.drop(drop, axis =1)\n"
   ]
  },
  {
   "cell_type": "code",
   "execution_count": 29,
   "id": "81086161",
   "metadata": {},
   "outputs": [
    {
     "data": {
      "text/html": [
       "<div>\n",
       "<style scoped>\n",
       "    .dataframe tbody tr th:only-of-type {\n",
       "        vertical-align: middle;\n",
       "    }\n",
       "\n",
       "    .dataframe tbody tr th {\n",
       "        vertical-align: top;\n",
       "    }\n",
       "\n",
       "    .dataframe thead th {\n",
       "        text-align: right;\n",
       "    }\n",
       "</style>\n",
       "<table border=\"1\" class=\"dataframe\">\n",
       "  <thead>\n",
       "    <tr style=\"text-align: right;\">\n",
       "      <th></th>\n",
       "      <th>Airline</th>\n",
       "      <th>Source</th>\n",
       "      <th>Destination</th>\n",
       "      <th>Total_Stops</th>\n",
       "      <th>Airline range</th>\n",
       "      <th>Additional Info_1 Long layover</th>\n",
       "      <th>Additional Info_1 Short layover</th>\n",
       "      <th>Additional Info_2 Long layover</th>\n",
       "      <th>Additional Info_Business class</th>\n",
       "      <th>Additional Info_Change airports</th>\n",
       "      <th>Additional Info_In-flight meal not included</th>\n",
       "      <th>Additional Info_No check-in baggage included</th>\n",
       "      <th>month</th>\n",
       "      <th>day</th>\n",
       "      <th>Duration_Minutes</th>\n",
       "      <th>Duration_Hours</th>\n",
       "      <th>weekday</th>\n",
       "      <th>season_enc</th>\n",
       "      <th>Arrival_Time_Period_enc</th>\n",
       "      <th>Dep_Time_Period_enc</th>\n",
       "    </tr>\n",
       "  </thead>\n",
       "  <tbody>\n",
       "    <tr>\n",
       "      <th>0</th>\n",
       "      <td>3</td>\n",
       "      <td>3</td>\n",
       "      <td>4</td>\n",
       "      <td>1</td>\n",
       "      <td>1</td>\n",
       "      <td>0</td>\n",
       "      <td>0</td>\n",
       "      <td>0</td>\n",
       "      <td>0</td>\n",
       "      <td>0</td>\n",
       "      <td>0</td>\n",
       "      <td>0</td>\n",
       "      <td>1</td>\n",
       "      <td>3</td>\n",
       "      <td>285</td>\n",
       "      <td>4.75</td>\n",
       "      <td>3</td>\n",
       "      <td>3</td>\n",
       "      <td>4</td>\n",
       "      <td>2</td>\n",
       "    </tr>\n",
       "  </tbody>\n",
       "</table>\n",
       "</div>"
      ],
      "text/plain": [
       "   Airline  Source  Destination  Total_Stops  Airline range  \\\n",
       "0        3       3            4            1              1   \n",
       "\n",
       "   Additional Info_1 Long layover  Additional Info_1 Short layover  \\\n",
       "0                               0                                0   \n",
       "\n",
       "   Additional Info_2 Long layover  Additional Info_Business class  \\\n",
       "0                               0                               0   \n",
       "\n",
       "   Additional Info_Change airports  \\\n",
       "0                                0   \n",
       "\n",
       "   Additional Info_In-flight meal not included  \\\n",
       "0                                            0   \n",
       "\n",
       "   Additional Info_No check-in baggage included  month  day  Duration_Minutes  \\\n",
       "0                                             0      1    3               285   \n",
       "\n",
       "   Duration_Hours  weekday  season_enc  Arrival_Time_Period_enc  \\\n",
       "0            4.75        3           3                        4   \n",
       "\n",
       "   Dep_Time_Period_enc  \n",
       "0                    2  "
      ]
     },
     "execution_count": 29,
     "metadata": {},
     "output_type": "execute_result"
    }
   ],
   "source": [
    "df"
   ]
  },
  {
   "cell_type": "code",
   "execution_count": 30,
   "id": "201004e4",
   "metadata": {},
   "outputs": [],
   "source": [
    "# scm = joblib.load('Minutescale')\n",
    "# sch =joblib.load('Hourscale') \n",
    "# df['Duration_Minutes'] =sch.fit_transform(df[['Duration_Minutes']])\n",
    "# df['Duration_Hours'] = sch.fit_transform(df[['Duration_Hours']])"
   ]
  },
  {
   "cell_type": "code",
   "execution_count": 31,
   "id": "6dde9ee0",
   "metadata": {},
   "outputs": [
    {
     "ename": "NameError",
     "evalue": "name 'scm' is not defined",
     "output_type": "error",
     "traceback": [
      "\u001b[1;31m---------------------------------------------------------------------------\u001b[0m",
      "\u001b[1;31mNameError\u001b[0m                                 Traceback (most recent call last)",
      "\u001b[1;32m~\\AppData\\Local\\Temp/ipykernel_17288/3216227549.py\u001b[0m in \u001b[0;36m<module>\u001b[1;34m\u001b[0m\n\u001b[1;32m----> 1\u001b[1;33m \u001b[0mscm\u001b[0m\u001b[1;33m.\u001b[0m\u001b[0mvar_\u001b[0m\u001b[1;33m\u001b[0m\u001b[1;33m\u001b[0m\u001b[0m\n\u001b[0m",
      "\u001b[1;31mNameError\u001b[0m: name 'scm' is not defined"
     ]
    }
   ],
   "source": [
    "scm.var_"
   ]
  },
  {
   "cell_type": "code",
   "execution_count": 32,
   "id": "ed9291e8",
   "metadata": {},
   "outputs": [
    {
     "ename": "NameError",
     "evalue": "name 'sch' is not defined",
     "output_type": "error",
     "traceback": [
      "\u001b[1;31m---------------------------------------------------------------------------\u001b[0m",
      "\u001b[1;31mNameError\u001b[0m                                 Traceback (most recent call last)",
      "\u001b[1;32m~\\AppData\\Local\\Temp/ipykernel_17288/3207298683.py\u001b[0m in \u001b[0;36m<module>\u001b[1;34m\u001b[0m\n\u001b[1;32m----> 1\u001b[1;33m \u001b[0msch\u001b[0m\u001b[1;33m.\u001b[0m\u001b[0mvar_\u001b[0m\u001b[1;33m\u001b[0m\u001b[1;33m\u001b[0m\u001b[0m\n\u001b[0m",
      "\u001b[1;31mNameError\u001b[0m: name 'sch' is not defined"
     ]
    }
   ],
   "source": [
    "sch.var_"
   ]
  },
  {
   "cell_type": "code",
   "execution_count": 33,
   "id": "e4949117",
   "metadata": {},
   "outputs": [],
   "source": [
    "# minutes sc1.mean_,sc1.var_\n",
    "#(array([640.23403857]), 499.44841461740924)\n",
    "\n",
    "df['Duration_Minutes'] = (df['Duration_Minutes'] - 640.23403857)/499.44841461740924\n",
    "\n",
    "#(array([10.67044561]), 8.324281856204824)\n",
    "df['Duration_Hours'] = (df['Duration_Hours'] -10.67044561)/ 8.324281856204824\n",
    "#can be considered dropping as 2 are giving same info"
   ]
  },
  {
   "cell_type": "code",
   "execution_count": null,
   "id": "10e7f339",
   "metadata": {},
   "outputs": [],
   "source": [
    "df"
   ]
  },
  {
   "cell_type": "code",
   "execution_count": 34,
   "id": "bdd2b9c7",
   "metadata": {},
   "outputs": [],
   "source": [
    "ypred = model.predict(df)"
   ]
  },
  {
   "cell_type": "code",
   "execution_count": 35,
   "id": "663b5abf",
   "metadata": {},
   "outputs": [],
   "source": [
    "param_1 = joblib.load('invBoxcox.sav')"
   ]
  },
  {
   "cell_type": "code",
   "execution_count": 36,
   "id": "1492eac4",
   "metadata": {},
   "outputs": [
    {
     "data": {
      "text/plain": [
       "array([53.88372831])"
      ]
     },
     "execution_count": 36,
     "metadata": {},
     "output_type": "execute_result"
    }
   ],
   "source": [
    "ypred"
   ]
  },
  {
   "cell_type": "code",
   "execution_count": 37,
   "id": "48ec19f4",
   "metadata": {},
   "outputs": [],
   "source": [
    "from scipy.special import inv_boxcox\n",
    "pred_inv = inv_boxcox(ypred, param_1)\n"
   ]
  },
  {
   "cell_type": "code",
   "execution_count": 38,
   "id": "8e738d23",
   "metadata": {},
   "outputs": [
    {
     "data": {
      "text/plain": [
       "array([11633.81980074])"
      ]
     },
     "execution_count": 38,
     "metadata": {},
     "output_type": "execute_result"
    }
   ],
   "source": [
    "pred_inv"
   ]
  },
  {
   "cell_type": "code",
   "execution_count": 39,
   "id": "46a12b3a",
   "metadata": {},
   "outputs": [
    {
     "data": {
      "text/plain": [
       "Index(['Airline', 'Source', 'Destination', 'Total_Stops', 'Airline range',\n",
       "       'Additional Info_1 Long layover', 'Additional Info_1 Short layover',\n",
       "       'Additional Info_2 Long layover', 'Additional Info_Business class',\n",
       "       'Additional Info_Change airports',\n",
       "       'Additional Info_In-flight meal not included',\n",
       "       'Additional Info_No check-in baggage included', 'month', 'day',\n",
       "       'Duration_Minutes', 'Duration_Hours', 'weekday', 'season_enc',\n",
       "       'Arrival_Time_Period_enc', 'Dep_Time_Period_enc'],\n",
       "      dtype='object')"
      ]
     },
     "execution_count": 39,
     "metadata": {},
     "output_type": "execute_result"
    }
   ],
   "source": [
    "columns = ['Airline', 'Source', 'Destination', 'Total_Stops', 'Airline range',\n",
    "       'Additional Info_1 Long layover', 'Additional Info_1 Short layover',\n",
    "       'Additional Info_2 Long layover', 'Additional Info_Business class',\n",
    "       'Additional Info_Change airports',\n",
    "       'Additional Info_In-flight meal not included',\n",
    "       'Additional Info_No check-in baggage included', 'month', 'day',\n",
    "       'Duration_Minutes', 'Duration_Hours', 'weekday', 'season_enc',\n",
    "       'Arrival_Time_Period_enc', 'Dep_Time_Period_enc']\n",
    "df.columns"
   ]
  },
  {
   "cell_type": "code",
   "execution_count": null,
   "id": "2af7145a",
   "metadata": {},
   "outputs": [],
   "source": []
  }
 ],
 "metadata": {
  "kernelspec": {
   "display_name": "Python 3 (ipykernel)",
   "language": "python",
   "name": "python3"
  },
  "language_info": {
   "codemirror_mode": {
    "name": "ipython",
    "version": 3
   },
   "file_extension": ".py",
   "mimetype": "text/x-python",
   "name": "python",
   "nbconvert_exporter": "python",
   "pygments_lexer": "ipython3",
   "version": "3.9.7"
  }
 },
 "nbformat": 4,
 "nbformat_minor": 5
}
